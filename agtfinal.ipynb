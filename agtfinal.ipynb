#BHUMIKA MALLAPUR
#ENG21CS0077
#Satisfaction function 3
#2ND RULE:Greedy rule
#dataset: poland_warszawa_2021_srodmiescie.pb
import pandas as pd
import math
vf=pd.read_csv("voterdet.csv")
pf=pd.read_csv("Projectdet.csv")
nv=4092 #total no.of voters
np=51 #total no.of projects
mimm=1  #minimum votes
mamm=15 #maximum votes
bg=3823123 #maximum or total budget alloctaed
utility=dict() #to store best utilities
B=set() #Outcome set
B.add(0) 
C=set() 
n=list()
votedt=dict() #dictionary in the format {voter_id:[...voted projects...]}
projdt=dict() #dictionary in the format {project_id:[cost]}
votedictf= vf.to_dict(orient='list')
projdictf= pf.to_dict(orient='list')
#to check for each project and store the data into respective sets for project id and cost
for i in range(np):
    ip=projdictf['project_id'][i]
    c=projdictf['cost'][i]
    projdt[ip]=c
A=list(projdt.keys())#creating a list with all project_id of voters
#checking through each voters now
for i in range(nv):
    ip=votedictf['voter_id'][i]
    # Replace with your desired column names
    for j in ['a','b','c','d','e','f','g','h','i','j','k','l','m','n','o']:
        c=votedictf[j][i]
        n.append(c)
    votedt[ip]=n
    n=[]
av=list(votedt.values()) #list containing list of votes of each voter as a set
vid=list(votedt.keys()) #list containing voter_id s
for ip in votedt.values():
    for i in range(15):
        if math.isnan(ip[i]):
            ip[i] = 0 

def maxutil(a): #function to calculate project with maximum utilty to add it to B
    max_value= max(a.values())
    for key, value in a.items():
        if value == max_value:
            return key
def f(Av, B):  # Third Satisfaction function
    D = set(Av)
    if D.intersection(B):  # If there is an intersection between Av and B
        return 1  # Voter has satisfaction 1
    else:
        return 0  # Voter has satisfaction 0
def grrule(f):
   
    B = set()
    V = range(nv)
    A = set(projdt.keys())
    c = projdt

    while True:
        best_item = None
        max_satisfaction = -1

        for item in A:
            if item not in B and c[item] + totalcost(B) <= bg:
                satisfaction_gain = sum(f(av[v], B.union({item})) for v in V)

                if satisfaction_gain > max_satisfaction:
                    max_satisfaction = satisfaction_gain
                    best_item = item

        if best_item is None:
            break

        B.add(best_item)

    return B

# Apply the greedy rule with the third satisfaction function
winning_bundle = grrule(f)
print("Winning Bundle:", winning_bundle)
print("Winning Bundle:", winning_bundle)
